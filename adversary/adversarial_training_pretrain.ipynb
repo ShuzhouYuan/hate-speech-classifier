{
  "nbformat": 4,
  "nbformat_minor": 0,
  "metadata": {
    "kernelspec": {
      "name": "python3",
      "display_name": "Python 3",
      "language": "python"
    },
    "language_info": {
      "name": "python",
      "version": "3.7.9",
      "mimetype": "text/x-python",
      "codemirror_mode": {
        "name": "ipython",
        "version": 3
      },
      "pygments_lexer": "ipython3",
      "nbconvert_exporter": "python",
      "file_extension": ".py"
    },
    "colab": {
      "name": "adversarial_training.ipynb",
      "provenance": [],
      "collapsed_sections": []
    },
    "accelerator": "GPU",
    "widgets": {
      "application/vnd.jupyter.widget-state+json": {
        "f206a15723204c7e8bd1ff508b40f1bd": {
          "model_module": "@jupyter-widgets/controls",
          "model_name": "HBoxModel",
          "state": {
            "_view_name": "HBoxView",
            "_dom_classes": [],
            "_model_name": "HBoxModel",
            "_view_module": "@jupyter-widgets/controls",
            "_model_module_version": "1.5.0",
            "_view_count": null,
            "_view_module_version": "1.5.0",
            "box_style": "",
            "layout": "IPY_MODEL_401b70e3522e4f7ba68d9731517aad10",
            "_model_module": "@jupyter-widgets/controls",
            "children": [
              "IPY_MODEL_fce2cf668a444bc594500e4e1687736e",
              "IPY_MODEL_f5cec8dd56984bf0bf477b53072a393d"
            ]
          }
        },
        "401b70e3522e4f7ba68d9731517aad10": {
          "model_module": "@jupyter-widgets/base",
          "model_name": "LayoutModel",
          "state": {
            "_view_name": "LayoutView",
            "grid_template_rows": null,
            "right": null,
            "justify_content": null,
            "_view_module": "@jupyter-widgets/base",
            "overflow": null,
            "_model_module_version": "1.2.0",
            "_view_count": null,
            "flex_flow": null,
            "width": null,
            "min_width": null,
            "border": null,
            "align_items": null,
            "bottom": null,
            "_model_module": "@jupyter-widgets/base",
            "top": null,
            "grid_column": null,
            "overflow_y": null,
            "overflow_x": null,
            "grid_auto_flow": null,
            "grid_area": null,
            "grid_template_columns": null,
            "flex": null,
            "_model_name": "LayoutModel",
            "justify_items": null,
            "grid_row": null,
            "max_height": null,
            "align_content": null,
            "visibility": null,
            "align_self": null,
            "height": null,
            "min_height": null,
            "padding": null,
            "grid_auto_rows": null,
            "grid_gap": null,
            "max_width": null,
            "order": null,
            "_view_module_version": "1.2.0",
            "grid_template_areas": null,
            "object_position": null,
            "object_fit": null,
            "grid_auto_columns": null,
            "margin": null,
            "display": null,
            "left": null
          }
        },
        "fce2cf668a444bc594500e4e1687736e": {
          "model_module": "@jupyter-widgets/controls",
          "model_name": "FloatProgressModel",
          "state": {
            "_view_name": "ProgressView",
            "style": "IPY_MODEL_6d1155664f76453eb2549693d4427c55",
            "_dom_classes": [],
            "description": "Downloading: 100%",
            "_model_name": "FloatProgressModel",
            "bar_style": "success",
            "max": 213450,
            "_view_module": "@jupyter-widgets/controls",
            "_model_module_version": "1.5.0",
            "value": 213450,
            "_view_count": null,
            "_view_module_version": "1.5.0",
            "orientation": "horizontal",
            "min": 0,
            "description_tooltip": null,
            "_model_module": "@jupyter-widgets/controls",
            "layout": "IPY_MODEL_b201e805d150414196492e8964a9d879"
          }
        },
        "f5cec8dd56984bf0bf477b53072a393d": {
          "model_module": "@jupyter-widgets/controls",
          "model_name": "HTMLModel",
          "state": {
            "_view_name": "HTMLView",
            "style": "IPY_MODEL_04f586a2ea0f4a3b8ffa741f8e19b37d",
            "_dom_classes": [],
            "description": "",
            "_model_name": "HTMLModel",
            "placeholder": "​",
            "_view_module": "@jupyter-widgets/controls",
            "_model_module_version": "1.5.0",
            "value": " 213k/213k [00:00&lt;00:00, 574kB/s]",
            "_view_count": null,
            "_view_module_version": "1.5.0",
            "description_tooltip": null,
            "_model_module": "@jupyter-widgets/controls",
            "layout": "IPY_MODEL_ebf64b2da0a24da198324b81fca46b58"
          }
        },
        "6d1155664f76453eb2549693d4427c55": {
          "model_module": "@jupyter-widgets/controls",
          "model_name": "ProgressStyleModel",
          "state": {
            "_view_name": "StyleView",
            "_model_name": "ProgressStyleModel",
            "description_width": "initial",
            "_view_module": "@jupyter-widgets/base",
            "_model_module_version": "1.5.0",
            "_view_count": null,
            "_view_module_version": "1.2.0",
            "bar_color": null,
            "_model_module": "@jupyter-widgets/controls"
          }
        },
        "b201e805d150414196492e8964a9d879": {
          "model_module": "@jupyter-widgets/base",
          "model_name": "LayoutModel",
          "state": {
            "_view_name": "LayoutView",
            "grid_template_rows": null,
            "right": null,
            "justify_content": null,
            "_view_module": "@jupyter-widgets/base",
            "overflow": null,
            "_model_module_version": "1.2.0",
            "_view_count": null,
            "flex_flow": null,
            "width": null,
            "min_width": null,
            "border": null,
            "align_items": null,
            "bottom": null,
            "_model_module": "@jupyter-widgets/base",
            "top": null,
            "grid_column": null,
            "overflow_y": null,
            "overflow_x": null,
            "grid_auto_flow": null,
            "grid_area": null,
            "grid_template_columns": null,
            "flex": null,
            "_model_name": "LayoutModel",
            "justify_items": null,
            "grid_row": null,
            "max_height": null,
            "align_content": null,
            "visibility": null,
            "align_self": null,
            "height": null,
            "min_height": null,
            "padding": null,
            "grid_auto_rows": null,
            "grid_gap": null,
            "max_width": null,
            "order": null,
            "_view_module_version": "1.2.0",
            "grid_template_areas": null,
            "object_position": null,
            "object_fit": null,
            "grid_auto_columns": null,
            "margin": null,
            "display": null,
            "left": null
          }
        },
        "04f586a2ea0f4a3b8ffa741f8e19b37d": {
          "model_module": "@jupyter-widgets/controls",
          "model_name": "DescriptionStyleModel",
          "state": {
            "_view_name": "StyleView",
            "_model_name": "DescriptionStyleModel",
            "description_width": "",
            "_view_module": "@jupyter-widgets/base",
            "_model_module_version": "1.5.0",
            "_view_count": null,
            "_view_module_version": "1.2.0",
            "_model_module": "@jupyter-widgets/controls"
          }
        },
        "ebf64b2da0a24da198324b81fca46b58": {
          "model_module": "@jupyter-widgets/base",
          "model_name": "LayoutModel",
          "state": {
            "_view_name": "LayoutView",
            "grid_template_rows": null,
            "right": null,
            "justify_content": null,
            "_view_module": "@jupyter-widgets/base",
            "overflow": null,
            "_model_module_version": "1.2.0",
            "_view_count": null,
            "flex_flow": null,
            "width": null,
            "min_width": null,
            "border": null,
            "align_items": null,
            "bottom": null,
            "_model_module": "@jupyter-widgets/base",
            "top": null,
            "grid_column": null,
            "overflow_y": null,
            "overflow_x": null,
            "grid_auto_flow": null,
            "grid_area": null,
            "grid_template_columns": null,
            "flex": null,
            "_model_name": "LayoutModel",
            "justify_items": null,
            "grid_row": null,
            "max_height": null,
            "align_content": null,
            "visibility": null,
            "align_self": null,
            "height": null,
            "min_height": null,
            "padding": null,
            "grid_auto_rows": null,
            "grid_gap": null,
            "max_width": null,
            "order": null,
            "_view_module_version": "1.2.0",
            "grid_template_areas": null,
            "object_position": null,
            "object_fit": null,
            "grid_auto_columns": null,
            "margin": null,
            "display": null,
            "left": null
          }
        },
        "ae465b14adbc4aaab3dd3acc80256b16": {
          "model_module": "@jupyter-widgets/controls",
          "model_name": "HBoxModel",
          "state": {
            "_view_name": "HBoxView",
            "_dom_classes": [],
            "_model_name": "HBoxModel",
            "_view_module": "@jupyter-widgets/controls",
            "_model_module_version": "1.5.0",
            "_view_count": null,
            "_view_module_version": "1.5.0",
            "box_style": "",
            "layout": "IPY_MODEL_449ae9ea45014b5eb0b070b8c5252e15",
            "_model_module": "@jupyter-widgets/controls",
            "children": [
              "IPY_MODEL_16ccc75333074c1b98e4c8195101a0b4",
              "IPY_MODEL_8d6491469f5f43e7a397b5b482d5b8d3"
            ]
          }
        },
        "449ae9ea45014b5eb0b070b8c5252e15": {
          "model_module": "@jupyter-widgets/base",
          "model_name": "LayoutModel",
          "state": {
            "_view_name": "LayoutView",
            "grid_template_rows": null,
            "right": null,
            "justify_content": null,
            "_view_module": "@jupyter-widgets/base",
            "overflow": null,
            "_model_module_version": "1.2.0",
            "_view_count": null,
            "flex_flow": null,
            "width": null,
            "min_width": null,
            "border": null,
            "align_items": null,
            "bottom": null,
            "_model_module": "@jupyter-widgets/base",
            "top": null,
            "grid_column": null,
            "overflow_y": null,
            "overflow_x": null,
            "grid_auto_flow": null,
            "grid_area": null,
            "grid_template_columns": null,
            "flex": null,
            "_model_name": "LayoutModel",
            "justify_items": null,
            "grid_row": null,
            "max_height": null,
            "align_content": null,
            "visibility": null,
            "align_self": null,
            "height": null,
            "min_height": null,
            "padding": null,
            "grid_auto_rows": null,
            "grid_gap": null,
            "max_width": null,
            "order": null,
            "_view_module_version": "1.2.0",
            "grid_template_areas": null,
            "object_position": null,
            "object_fit": null,
            "grid_auto_columns": null,
            "margin": null,
            "display": null,
            "left": null
          }
        },
        "16ccc75333074c1b98e4c8195101a0b4": {
          "model_module": "@jupyter-widgets/controls",
          "model_name": "FloatProgressModel",
          "state": {
            "_view_name": "ProgressView",
            "style": "IPY_MODEL_d22f25153baf425f82829900d5590e4d",
            "_dom_classes": [],
            "description": "Downloading: 100%",
            "_model_name": "FloatProgressModel",
            "bar_style": "success",
            "max": 411,
            "_view_module": "@jupyter-widgets/controls",
            "_model_module_version": "1.5.0",
            "value": 411,
            "_view_count": null,
            "_view_module_version": "1.5.0",
            "orientation": "horizontal",
            "min": 0,
            "description_tooltip": null,
            "_model_module": "@jupyter-widgets/controls",
            "layout": "IPY_MODEL_bb985bd25b6d4d20a27c3fcc4ce1db4d"
          }
        },
        "8d6491469f5f43e7a397b5b482d5b8d3": {
          "model_module": "@jupyter-widgets/controls",
          "model_name": "HTMLModel",
          "state": {
            "_view_name": "HTMLView",
            "style": "IPY_MODEL_114ef1e1e2a7468ab5082e95b5081c66",
            "_dom_classes": [],
            "description": "",
            "_model_name": "HTMLModel",
            "placeholder": "​",
            "_view_module": "@jupyter-widgets/controls",
            "_model_module_version": "1.5.0",
            "value": " 411/411 [00:00&lt;00:00, 8.75kB/s]",
            "_view_count": null,
            "_view_module_version": "1.5.0",
            "description_tooltip": null,
            "_model_module": "@jupyter-widgets/controls",
            "layout": "IPY_MODEL_1cd9a3cd42a64a3ca41c44ed1f0d359d"
          }
        },
        "d22f25153baf425f82829900d5590e4d": {
          "model_module": "@jupyter-widgets/controls",
          "model_name": "ProgressStyleModel",
          "state": {
            "_view_name": "StyleView",
            "_model_name": "ProgressStyleModel",
            "description_width": "initial",
            "_view_module": "@jupyter-widgets/base",
            "_model_module_version": "1.5.0",
            "_view_count": null,
            "_view_module_version": "1.2.0",
            "bar_color": null,
            "_model_module": "@jupyter-widgets/controls"
          }
        },
        "bb985bd25b6d4d20a27c3fcc4ce1db4d": {
          "model_module": "@jupyter-widgets/base",
          "model_name": "LayoutModel",
          "state": {
            "_view_name": "LayoutView",
            "grid_template_rows": null,
            "right": null,
            "justify_content": null,
            "_view_module": "@jupyter-widgets/base",
            "overflow": null,
            "_model_module_version": "1.2.0",
            "_view_count": null,
            "flex_flow": null,
            "width": null,
            "min_width": null,
            "border": null,
            "align_items": null,
            "bottom": null,
            "_model_module": "@jupyter-widgets/base",
            "top": null,
            "grid_column": null,
            "overflow_y": null,
            "overflow_x": null,
            "grid_auto_flow": null,
            "grid_area": null,
            "grid_template_columns": null,
            "flex": null,
            "_model_name": "LayoutModel",
            "justify_items": null,
            "grid_row": null,
            "max_height": null,
            "align_content": null,
            "visibility": null,
            "align_self": null,
            "height": null,
            "min_height": null,
            "padding": null,
            "grid_auto_rows": null,
            "grid_gap": null,
            "max_width": null,
            "order": null,
            "_view_module_version": "1.2.0",
            "grid_template_areas": null,
            "object_position": null,
            "object_fit": null,
            "grid_auto_columns": null,
            "margin": null,
            "display": null,
            "left": null
          }
        },
        "114ef1e1e2a7468ab5082e95b5081c66": {
          "model_module": "@jupyter-widgets/controls",
          "model_name": "DescriptionStyleModel",
          "state": {
            "_view_name": "StyleView",
            "_model_name": "DescriptionStyleModel",
            "description_width": "",
            "_view_module": "@jupyter-widgets/base",
            "_model_module_version": "1.5.0",
            "_view_count": null,
            "_view_module_version": "1.2.0",
            "_model_module": "@jupyter-widgets/controls"
          }
        },
        "1cd9a3cd42a64a3ca41c44ed1f0d359d": {
          "model_module": "@jupyter-widgets/base",
          "model_name": "LayoutModel",
          "state": {
            "_view_name": "LayoutView",
            "grid_template_rows": null,
            "right": null,
            "justify_content": null,
            "_view_module": "@jupyter-widgets/base",
            "overflow": null,
            "_model_module_version": "1.2.0",
            "_view_count": null,
            "flex_flow": null,
            "width": null,
            "min_width": null,
            "border": null,
            "align_items": null,
            "bottom": null,
            "_model_module": "@jupyter-widgets/base",
            "top": null,
            "grid_column": null,
            "overflow_y": null,
            "overflow_x": null,
            "grid_auto_flow": null,
            "grid_area": null,
            "grid_template_columns": null,
            "flex": null,
            "_model_name": "LayoutModel",
            "justify_items": null,
            "grid_row": null,
            "max_height": null,
            "align_content": null,
            "visibility": null,
            "align_self": null,
            "height": null,
            "min_height": null,
            "padding": null,
            "grid_auto_rows": null,
            "grid_gap": null,
            "max_width": null,
            "order": null,
            "_view_module_version": "1.2.0",
            "grid_template_areas": null,
            "object_position": null,
            "object_fit": null,
            "grid_auto_columns": null,
            "margin": null,
            "display": null,
            "left": null
          }
        },
        "fd9ca1f1f5a4411d817818f6d4b82de5": {
          "model_module": "@jupyter-widgets/controls",
          "model_name": "HBoxModel",
          "state": {
            "_view_name": "HBoxView",
            "_dom_classes": [],
            "_model_name": "HBoxModel",
            "_view_module": "@jupyter-widgets/controls",
            "_model_module_version": "1.5.0",
            "_view_count": null,
            "_view_module_version": "1.5.0",
            "box_style": "",
            "layout": "IPY_MODEL_218fe6dadfe34c708ee4153cb76d423a",
            "_model_module": "@jupyter-widgets/controls",
            "children": [
              "IPY_MODEL_4484bf97fee042599d524ec5b0ece5fa",
              "IPY_MODEL_13ff1a4c59a14b9eb601ce1367b18eaa"
            ]
          }
        },
        "218fe6dadfe34c708ee4153cb76d423a": {
          "model_module": "@jupyter-widgets/base",
          "model_name": "LayoutModel",
          "state": {
            "_view_name": "LayoutView",
            "grid_template_rows": null,
            "right": null,
            "justify_content": null,
            "_view_module": "@jupyter-widgets/base",
            "overflow": null,
            "_model_module_version": "1.2.0",
            "_view_count": null,
            "flex_flow": null,
            "width": null,
            "min_width": null,
            "border": null,
            "align_items": null,
            "bottom": null,
            "_model_module": "@jupyter-widgets/base",
            "top": null,
            "grid_column": null,
            "overflow_y": null,
            "overflow_x": null,
            "grid_auto_flow": null,
            "grid_area": null,
            "grid_template_columns": null,
            "flex": null,
            "_model_name": "LayoutModel",
            "justify_items": null,
            "grid_row": null,
            "max_height": null,
            "align_content": null,
            "visibility": null,
            "align_self": null,
            "height": null,
            "min_height": null,
            "padding": null,
            "grid_auto_rows": null,
            "grid_gap": null,
            "max_width": null,
            "order": null,
            "_view_module_version": "1.2.0",
            "grid_template_areas": null,
            "object_position": null,
            "object_fit": null,
            "grid_auto_columns": null,
            "margin": null,
            "display": null,
            "left": null
          }
        },
        "4484bf97fee042599d524ec5b0ece5fa": {
          "model_module": "@jupyter-widgets/controls",
          "model_name": "FloatProgressModel",
          "state": {
            "_view_name": "ProgressView",
            "style": "IPY_MODEL_952848c12efb43cfa44fc94e46262772",
            "_dom_classes": [],
            "description": "Downloading: 100%",
            "_model_name": "FloatProgressModel",
            "bar_style": "success",
            "max": 263273408,
            "_view_module": "@jupyter-widgets/controls",
            "_model_module_version": "1.5.0",
            "value": 263273408,
            "_view_count": null,
            "_view_module_version": "1.5.0",
            "orientation": "horizontal",
            "min": 0,
            "description_tooltip": null,
            "_model_module": "@jupyter-widgets/controls",
            "layout": "IPY_MODEL_8a2d186232e94b1cad5edd8f1f6cf8ac"
          }
        },
        "13ff1a4c59a14b9eb601ce1367b18eaa": {
          "model_module": "@jupyter-widgets/controls",
          "model_name": "HTMLModel",
          "state": {
            "_view_name": "HTMLView",
            "style": "IPY_MODEL_81e86186ec1f4b5abbd12baec20fd928",
            "_dom_classes": [],
            "description": "",
            "_model_name": "HTMLModel",
            "placeholder": "​",
            "_view_module": "@jupyter-widgets/controls",
            "_model_module_version": "1.5.0",
            "value": " 263M/263M [00:07&lt;00:00, 36.6MB/s]",
            "_view_count": null,
            "_view_module_version": "1.5.0",
            "description_tooltip": null,
            "_model_module": "@jupyter-widgets/controls",
            "layout": "IPY_MODEL_dd05bebd40df4b34b80a262a0705a940"
          }
        },
        "952848c12efb43cfa44fc94e46262772": {
          "model_module": "@jupyter-widgets/controls",
          "model_name": "ProgressStyleModel",
          "state": {
            "_view_name": "StyleView",
            "_model_name": "ProgressStyleModel",
            "description_width": "initial",
            "_view_module": "@jupyter-widgets/base",
            "_model_module_version": "1.5.0",
            "_view_count": null,
            "_view_module_version": "1.2.0",
            "bar_color": null,
            "_model_module": "@jupyter-widgets/controls"
          }
        },
        "8a2d186232e94b1cad5edd8f1f6cf8ac": {
          "model_module": "@jupyter-widgets/base",
          "model_name": "LayoutModel",
          "state": {
            "_view_name": "LayoutView",
            "grid_template_rows": null,
            "right": null,
            "justify_content": null,
            "_view_module": "@jupyter-widgets/base",
            "overflow": null,
            "_model_module_version": "1.2.0",
            "_view_count": null,
            "flex_flow": null,
            "width": null,
            "min_width": null,
            "border": null,
            "align_items": null,
            "bottom": null,
            "_model_module": "@jupyter-widgets/base",
            "top": null,
            "grid_column": null,
            "overflow_y": null,
            "overflow_x": null,
            "grid_auto_flow": null,
            "grid_area": null,
            "grid_template_columns": null,
            "flex": null,
            "_model_name": "LayoutModel",
            "justify_items": null,
            "grid_row": null,
            "max_height": null,
            "align_content": null,
            "visibility": null,
            "align_self": null,
            "height": null,
            "min_height": null,
            "padding": null,
            "grid_auto_rows": null,
            "grid_gap": null,
            "max_width": null,
            "order": null,
            "_view_module_version": "1.2.0",
            "grid_template_areas": null,
            "object_position": null,
            "object_fit": null,
            "grid_auto_columns": null,
            "margin": null,
            "display": null,
            "left": null
          }
        },
        "81e86186ec1f4b5abbd12baec20fd928": {
          "model_module": "@jupyter-widgets/controls",
          "model_name": "DescriptionStyleModel",
          "state": {
            "_view_name": "StyleView",
            "_model_name": "DescriptionStyleModel",
            "description_width": "",
            "_view_module": "@jupyter-widgets/base",
            "_model_module_version": "1.5.0",
            "_view_count": null,
            "_view_module_version": "1.2.0",
            "_model_module": "@jupyter-widgets/controls"
          }
        },
        "dd05bebd40df4b34b80a262a0705a940": {
          "model_module": "@jupyter-widgets/base",
          "model_name": "LayoutModel",
          "state": {
            "_view_name": "LayoutView",
            "grid_template_rows": null,
            "right": null,
            "justify_content": null,
            "_view_module": "@jupyter-widgets/base",
            "overflow": null,
            "_model_module_version": "1.2.0",
            "_view_count": null,
            "flex_flow": null,
            "width": null,
            "min_width": null,
            "border": null,
            "align_items": null,
            "bottom": null,
            "_model_module": "@jupyter-widgets/base",
            "top": null,
            "grid_column": null,
            "overflow_y": null,
            "overflow_x": null,
            "grid_auto_flow": null,
            "grid_area": null,
            "grid_template_columns": null,
            "flex": null,
            "_model_name": "LayoutModel",
            "justify_items": null,
            "grid_row": null,
            "max_height": null,
            "align_content": null,
            "visibility": null,
            "align_self": null,
            "height": null,
            "min_height": null,
            "padding": null,
            "grid_auto_rows": null,
            "grid_gap": null,
            "max_width": null,
            "order": null,
            "_view_module_version": "1.2.0",
            "grid_template_areas": null,
            "object_position": null,
            "object_fit": null,
            "grid_auto_columns": null,
            "margin": null,
            "display": null,
            "left": null
          }
        }
      }
    }
  },
  "cells": [
    {
      "cell_type": "code",
      "metadata": {
        "colab": {
          "base_uri": "https://localhost:8080/"
        },
        "id": "wPNZGvjzaf6I",
        "outputId": "829f6a1f-e954-4861-f53f-157b5d0028bb"
      },
      "source": [
        "from google.colab import drive\n",
        "drive.mount('/content/drive')"
      ],
      "execution_count": 1,
      "outputs": [
        {
          "output_type": "stream",
          "text": [
            "Mounted at /content/drive\n"
          ],
          "name": "stdout"
        }
      ]
    },
    {
      "cell_type": "code",
      "metadata": {
        "colab": {
          "base_uri": "https://localhost:8080/"
        },
        "id": "mRNFvf5Ta00f",
        "outputId": "d4bafdac-7224-480d-df44-3123652f2225"
      },
      "source": [
        "cd /content/drive/MyDrive/MA"
      ],
      "execution_count": 2,
      "outputs": [
        {
          "output_type": "stream",
          "text": [
            "/content/drive/MyDrive/MA\n"
          ],
          "name": "stdout"
        }
      ]
    },
    {
      "cell_type": "code",
      "metadata": {
        "id": "lLGJyJthW1F-",
        "trusted": true,
        "colab": {
          "base_uri": "https://localhost:8080/"
        },
        "outputId": "bfd159ba-fcac-4668-8fd6-ba50f5b13f5e"
      },
      "source": [
        "!pip install transformers==4.2.0\n",
        "#!pip install cloud-tpu-client==0.10 https://storage.googleapis.com/tpu-pytorch/wheels/torch_xla-1.7-cp36-cp36m-linux_x86_64.whl"
      ],
      "execution_count": 3,
      "outputs": [
        {
          "output_type": "stream",
          "text": [
            "Collecting transformers==4.2.0\n",
            "\u001b[?25l  Downloading https://files.pythonhosted.org/packages/84/ea/634945faff8ad6984b98f7f3d98f6d83083a18af44e349744d90bde81f80/transformers-4.2.0-py3-none-any.whl (1.8MB)\n",
            "\r\u001b[K     |▏                               | 10kB 17.5MB/s eta 0:00:01\r\u001b[K     |▍                               | 20kB 18.9MB/s eta 0:00:01\r\u001b[K     |▋                               | 30kB 16.2MB/s eta 0:00:01\r\u001b[K     |▊                               | 40kB 14.8MB/s eta 0:00:01\r\u001b[K     |█                               | 51kB 12.1MB/s eta 0:00:01\r\u001b[K     |█▏                              | 61kB 11.5MB/s eta 0:00:01\r\u001b[K     |█▎                              | 71kB 12.3MB/s eta 0:00:01\r\u001b[K     |█▌                              | 81kB 12.2MB/s eta 0:00:01\r\u001b[K     |█▊                              | 92kB 12.1MB/s eta 0:00:01\r\u001b[K     |█▉                              | 102kB 11.3MB/s eta 0:00:01\r\u001b[K     |██                              | 112kB 11.3MB/s eta 0:00:01\r\u001b[K     |██▎                             | 122kB 11.3MB/s eta 0:00:01\r\u001b[K     |██▍                             | 133kB 11.3MB/s eta 0:00:01\r\u001b[K     |██▋                             | 143kB 11.3MB/s eta 0:00:01\r\u001b[K     |██▉                             | 153kB 11.3MB/s eta 0:00:01\r\u001b[K     |███                             | 163kB 11.3MB/s eta 0:00:01\r\u001b[K     |███▏                            | 174kB 11.3MB/s eta 0:00:01\r\u001b[K     |███▍                            | 184kB 11.3MB/s eta 0:00:01\r\u001b[K     |███▌                            | 194kB 11.3MB/s eta 0:00:01\r\u001b[K     |███▊                            | 204kB 11.3MB/s eta 0:00:01\r\u001b[K     |████                            | 215kB 11.3MB/s eta 0:00:01\r\u001b[K     |████                            | 225kB 11.3MB/s eta 0:00:01\r\u001b[K     |████▎                           | 235kB 11.3MB/s eta 0:00:01\r\u001b[K     |████▌                           | 245kB 11.3MB/s eta 0:00:01\r\u001b[K     |████▋                           | 256kB 11.3MB/s eta 0:00:01\r\u001b[K     |████▉                           | 266kB 11.3MB/s eta 0:00:01\r\u001b[K     |█████                           | 276kB 11.3MB/s eta 0:00:01\r\u001b[K     |█████▏                          | 286kB 11.3MB/s eta 0:00:01\r\u001b[K     |█████▍                          | 296kB 11.3MB/s eta 0:00:01\r\u001b[K     |█████▋                          | 307kB 11.3MB/s eta 0:00:01\r\u001b[K     |█████▊                          | 317kB 11.3MB/s eta 0:00:01\r\u001b[K     |██████                          | 327kB 11.3MB/s eta 0:00:01\r\u001b[K     |██████▏                         | 337kB 11.3MB/s eta 0:00:01\r\u001b[K     |██████▎                         | 348kB 11.3MB/s eta 0:00:01\r\u001b[K     |██████▌                         | 358kB 11.3MB/s eta 0:00:01\r\u001b[K     |██████▊                         | 368kB 11.3MB/s eta 0:00:01\r\u001b[K     |██████▉                         | 378kB 11.3MB/s eta 0:00:01\r\u001b[K     |███████                         | 389kB 11.3MB/s eta 0:00:01\r\u001b[K     |███████▎                        | 399kB 11.3MB/s eta 0:00:01\r\u001b[K     |███████▍                        | 409kB 11.3MB/s eta 0:00:01\r\u001b[K     |███████▋                        | 419kB 11.3MB/s eta 0:00:01\r\u001b[K     |███████▉                        | 430kB 11.3MB/s eta 0:00:01\r\u001b[K     |████████                        | 440kB 11.3MB/s eta 0:00:01\r\u001b[K     |████████▏                       | 450kB 11.3MB/s eta 0:00:01\r\u001b[K     |████████▍                       | 460kB 11.3MB/s eta 0:00:01\r\u001b[K     |████████▌                       | 471kB 11.3MB/s eta 0:00:01\r\u001b[K     |████████▊                       | 481kB 11.3MB/s eta 0:00:01\r\u001b[K     |█████████                       | 491kB 11.3MB/s eta 0:00:01\r\u001b[K     |█████████                       | 501kB 11.3MB/s eta 0:00:01\r\u001b[K     |█████████▎                      | 512kB 11.3MB/s eta 0:00:01\r\u001b[K     |█████████▌                      | 522kB 11.3MB/s eta 0:00:01\r\u001b[K     |█████████▋                      | 532kB 11.3MB/s eta 0:00:01\r\u001b[K     |█████████▉                      | 542kB 11.3MB/s eta 0:00:01\r\u001b[K     |██████████                      | 552kB 11.3MB/s eta 0:00:01\r\u001b[K     |██████████▏                     | 563kB 11.3MB/s eta 0:00:01\r\u001b[K     |██████████▍                     | 573kB 11.3MB/s eta 0:00:01\r\u001b[K     |██████████▋                     | 583kB 11.3MB/s eta 0:00:01\r\u001b[K     |██████████▊                     | 593kB 11.3MB/s eta 0:00:01\r\u001b[K     |███████████                     | 604kB 11.3MB/s eta 0:00:01\r\u001b[K     |███████████▏                    | 614kB 11.3MB/s eta 0:00:01\r\u001b[K     |███████████▎                    | 624kB 11.3MB/s eta 0:00:01\r\u001b[K     |███████████▌                    | 634kB 11.3MB/s eta 0:00:01\r\u001b[K     |███████████▊                    | 645kB 11.3MB/s eta 0:00:01\r\u001b[K     |███████████▉                    | 655kB 11.3MB/s eta 0:00:01\r\u001b[K     |████████████                    | 665kB 11.3MB/s eta 0:00:01\r\u001b[K     |████████████▎                   | 675kB 11.3MB/s eta 0:00:01\r\u001b[K     |████████████▍                   | 686kB 11.3MB/s eta 0:00:01\r\u001b[K     |████████████▋                   | 696kB 11.3MB/s eta 0:00:01\r\u001b[K     |████████████▉                   | 706kB 11.3MB/s eta 0:00:01\r\u001b[K     |█████████████                   | 716kB 11.3MB/s eta 0:00:01\r\u001b[K     |█████████████▏                  | 727kB 11.3MB/s eta 0:00:01\r\u001b[K     |█████████████▍                  | 737kB 11.3MB/s eta 0:00:01\r\u001b[K     |█████████████▌                  | 747kB 11.3MB/s eta 0:00:01\r\u001b[K     |█████████████▊                  | 757kB 11.3MB/s eta 0:00:01\r\u001b[K     |██████████████                  | 768kB 11.3MB/s eta 0:00:01\r\u001b[K     |██████████████                  | 778kB 11.3MB/s eta 0:00:01\r\u001b[K     |██████████████▎                 | 788kB 11.3MB/s eta 0:00:01\r\u001b[K     |██████████████▌                 | 798kB 11.3MB/s eta 0:00:01\r\u001b[K     |██████████████▋                 | 808kB 11.3MB/s eta 0:00:01\r\u001b[K     |██████████████▉                 | 819kB 11.3MB/s eta 0:00:01\r\u001b[K     |███████████████                 | 829kB 11.3MB/s eta 0:00:01\r\u001b[K     |███████████████▏                | 839kB 11.3MB/s eta 0:00:01\r\u001b[K     |███████████████▍                | 849kB 11.3MB/s eta 0:00:01\r\u001b[K     |███████████████▋                | 860kB 11.3MB/s eta 0:00:01\r\u001b[K     |███████████████▊                | 870kB 11.3MB/s eta 0:00:01\r\u001b[K     |████████████████                | 880kB 11.3MB/s eta 0:00:01\r\u001b[K     |████████████████▏               | 890kB 11.3MB/s eta 0:00:01\r\u001b[K     |████████████████▎               | 901kB 11.3MB/s eta 0:00:01\r\u001b[K     |████████████████▌               | 911kB 11.3MB/s eta 0:00:01\r\u001b[K     |████████████████▊               | 921kB 11.3MB/s eta 0:00:01\r\u001b[K     |████████████████▉               | 931kB 11.3MB/s eta 0:00:01\r\u001b[K     |█████████████████               | 942kB 11.3MB/s eta 0:00:01\r\u001b[K     |█████████████████▎              | 952kB 11.3MB/s eta 0:00:01\r\u001b[K     |█████████████████▍              | 962kB 11.3MB/s eta 0:00:01\r\u001b[K     |█████████████████▋              | 972kB 11.3MB/s eta 0:00:01\r\u001b[K     |█████████████████▉              | 983kB 11.3MB/s eta 0:00:01\r\u001b[K     |██████████████████              | 993kB 11.3MB/s eta 0:00:01\r\u001b[K     |██████████████████▏             | 1.0MB 11.3MB/s eta 0:00:01\r\u001b[K     |██████████████████▍             | 1.0MB 11.3MB/s eta 0:00:01\r\u001b[K     |██████████████████▌             | 1.0MB 11.3MB/s eta 0:00:01\r\u001b[K     |██████████████████▊             | 1.0MB 11.3MB/s eta 0:00:01\r\u001b[K     |███████████████████             | 1.0MB 11.3MB/s eta 0:00:01\r\u001b[K     |███████████████████             | 1.1MB 11.3MB/s eta 0:00:01\r\u001b[K     |███████████████████▎            | 1.1MB 11.3MB/s eta 0:00:01\r\u001b[K     |███████████████████▌            | 1.1MB 11.3MB/s eta 0:00:01\r\u001b[K     |███████████████████▋            | 1.1MB 11.3MB/s eta 0:00:01\r\u001b[K     |███████████████████▉            | 1.1MB 11.3MB/s eta 0:00:01\r\u001b[K     |████████████████████            | 1.1MB 11.3MB/s eta 0:00:01\r\u001b[K     |████████████████████▏           | 1.1MB 11.3MB/s eta 0:00:01\r\u001b[K     |████████████████████▍           | 1.1MB 11.3MB/s eta 0:00:01\r\u001b[K     |████████████████████▋           | 1.1MB 11.3MB/s eta 0:00:01\r\u001b[K     |████████████████████▊           | 1.1MB 11.3MB/s eta 0:00:01\r\u001b[K     |█████████████████████           | 1.2MB 11.3MB/s eta 0:00:01\r\u001b[K     |█████████████████████▏          | 1.2MB 11.3MB/s eta 0:00:01\r\u001b[K     |█████████████████████▎          | 1.2MB 11.3MB/s eta 0:00:01\r\u001b[K     |█████████████████████▌          | 1.2MB 11.3MB/s eta 0:00:01\r\u001b[K     |█████████████████████▊          | 1.2MB 11.3MB/s eta 0:00:01\r\u001b[K     |█████████████████████▉          | 1.2MB 11.3MB/s eta 0:00:01\r\u001b[K     |██████████████████████          | 1.2MB 11.3MB/s eta 0:00:01\r\u001b[K     |██████████████████████▎         | 1.2MB 11.3MB/s eta 0:00:01\r\u001b[K     |██████████████████████▍         | 1.2MB 11.3MB/s eta 0:00:01\r\u001b[K     |██████████████████████▋         | 1.2MB 11.3MB/s eta 0:00:01\r\u001b[K     |██████████████████████▉         | 1.3MB 11.3MB/s eta 0:00:01\r\u001b[K     |███████████████████████         | 1.3MB 11.3MB/s eta 0:00:01\r\u001b[K     |███████████████████████▏        | 1.3MB 11.3MB/s eta 0:00:01\r\u001b[K     |███████████████████████▍        | 1.3MB 11.3MB/s eta 0:00:01\r\u001b[K     |███████████████████████▋        | 1.3MB 11.3MB/s eta 0:00:01\r\u001b[K     |███████████████████████▊        | 1.3MB 11.3MB/s eta 0:00:01\r\u001b[K     |████████████████████████        | 1.3MB 11.3MB/s eta 0:00:01\r\u001b[K     |████████████████████████▏       | 1.3MB 11.3MB/s eta 0:00:01\r\u001b[K     |████████████████████████▎       | 1.3MB 11.3MB/s eta 0:00:01\r\u001b[K     |████████████████████████▌       | 1.4MB 11.3MB/s eta 0:00:01\r\u001b[K     |████████████████████████▊       | 1.4MB 11.3MB/s eta 0:00:01\r\u001b[K     |████████████████████████▉       | 1.4MB 11.3MB/s eta 0:00:01\r\u001b[K     |█████████████████████████       | 1.4MB 11.3MB/s eta 0:00:01\r\u001b[K     |█████████████████████████▎      | 1.4MB 11.3MB/s eta 0:00:01\r\u001b[K     |█████████████████████████▍      | 1.4MB 11.3MB/s eta 0:00:01\r\u001b[K     |█████████████████████████▋      | 1.4MB 11.3MB/s eta 0:00:01\r\u001b[K     |█████████████████████████▉      | 1.4MB 11.3MB/s eta 0:00:01\r\u001b[K     |██████████████████████████      | 1.4MB 11.3MB/s eta 0:00:01\r\u001b[K     |██████████████████████████▏     | 1.4MB 11.3MB/s eta 0:00:01\r\u001b[K     |██████████████████████████▍     | 1.5MB 11.3MB/s eta 0:00:01\r\u001b[K     |██████████████████████████▌     | 1.5MB 11.3MB/s eta 0:00:01\r\u001b[K     |██████████████████████████▊     | 1.5MB 11.3MB/s eta 0:00:01\r\u001b[K     |███████████████████████████     | 1.5MB 11.3MB/s eta 0:00:01\r\u001b[K     |███████████████████████████     | 1.5MB 11.3MB/s eta 0:00:01\r\u001b[K     |███████████████████████████▎    | 1.5MB 11.3MB/s eta 0:00:01\r\u001b[K     |███████████████████████████▌    | 1.5MB 11.3MB/s eta 0:00:01\r\u001b[K     |███████████████████████████▋    | 1.5MB 11.3MB/s eta 0:00:01\r\u001b[K     |███████████████████████████▉    | 1.5MB 11.3MB/s eta 0:00:01\r\u001b[K     |████████████████████████████    | 1.5MB 11.3MB/s eta 0:00:01\r\u001b[K     |████████████████████████████▏   | 1.6MB 11.3MB/s eta 0:00:01\r\u001b[K     |████████████████████████████▍   | 1.6MB 11.3MB/s eta 0:00:01\r\u001b[K     |████████████████████████████▋   | 1.6MB 11.3MB/s eta 0:00:01\r\u001b[K     |████████████████████████████▊   | 1.6MB 11.3MB/s eta 0:00:01\r\u001b[K     |█████████████████████████████   | 1.6MB 11.3MB/s eta 0:00:01\r\u001b[K     |█████████████████████████████▏  | 1.6MB 11.3MB/s eta 0:00:01\r\u001b[K     |█████████████████████████████▎  | 1.6MB 11.3MB/s eta 0:00:01\r\u001b[K     |█████████████████████████████▌  | 1.6MB 11.3MB/s eta 0:00:01\r\u001b[K     |█████████████████████████████▊  | 1.6MB 11.3MB/s eta 0:00:01\r\u001b[K     |█████████████████████████████▉  | 1.6MB 11.3MB/s eta 0:00:01\r\u001b[K     |██████████████████████████████  | 1.7MB 11.3MB/s eta 0:00:01\r\u001b[K     |██████████████████████████████▎ | 1.7MB 11.3MB/s eta 0:00:01\r\u001b[K     |██████████████████████████████▍ | 1.7MB 11.3MB/s eta 0:00:01\r\u001b[K     |██████████████████████████████▋ | 1.7MB 11.3MB/s eta 0:00:01\r\u001b[K     |██████████████████████████████▉ | 1.7MB 11.3MB/s eta 0:00:01\r\u001b[K     |███████████████████████████████ | 1.7MB 11.3MB/s eta 0:00:01\r\u001b[K     |███████████████████████████████▏| 1.7MB 11.3MB/s eta 0:00:01\r\u001b[K     |███████████████████████████████▍| 1.7MB 11.3MB/s eta 0:00:01\r\u001b[K     |███████████████████████████████▌| 1.7MB 11.3MB/s eta 0:00:01\r\u001b[K     |███████████████████████████████▊| 1.8MB 11.3MB/s eta 0:00:01\r\u001b[K     |████████████████████████████████| 1.8MB 11.3MB/s eta 0:00:01\r\u001b[K     |████████████████████████████████| 1.8MB 11.3MB/s \n",
            "\u001b[?25hRequirement already satisfied: requests in /usr/local/lib/python3.7/dist-packages (from transformers==4.2.0) (2.23.0)\n",
            "Requirement already satisfied: packaging in /usr/local/lib/python3.7/dist-packages (from transformers==4.2.0) (20.9)\n",
            "Requirement already satisfied: regex!=2019.12.17 in /usr/local/lib/python3.7/dist-packages (from transformers==4.2.0) (2019.12.20)\n",
            "Collecting tokenizers==0.9.4\n",
            "\u001b[?25l  Downloading https://files.pythonhosted.org/packages/fb/36/59e4a62254c5fcb43894c6b0e9403ec6f4238cc2422a003ed2e6279a1784/tokenizers-0.9.4-cp37-cp37m-manylinux2010_x86_64.whl (2.9MB)\n",
            "\u001b[K     |████████████████████████████████| 2.9MB 37.2MB/s \n",
            "\u001b[?25hRequirement already satisfied: importlib-metadata; python_version < \"3.8\" in /usr/local/lib/python3.7/dist-packages (from transformers==4.2.0) (3.7.2)\n",
            "Requirement already satisfied: tqdm>=4.27 in /usr/local/lib/python3.7/dist-packages (from transformers==4.2.0) (4.41.1)\n",
            "Requirement already satisfied: filelock in /usr/local/lib/python3.7/dist-packages (from transformers==4.2.0) (3.0.12)\n",
            "Collecting sacremoses\n",
            "\u001b[?25l  Downloading https://files.pythonhosted.org/packages/7d/34/09d19aff26edcc8eb2a01bed8e98f13a1537005d31e95233fd48216eed10/sacremoses-0.0.43.tar.gz (883kB)\n",
            "\u001b[K     |████████████████████████████████| 890kB 38.0MB/s \n",
            "\u001b[?25hRequirement already satisfied: numpy in /usr/local/lib/python3.7/dist-packages (from transformers==4.2.0) (1.19.5)\n",
            "Requirement already satisfied: urllib3!=1.25.0,!=1.25.1,<1.26,>=1.21.1 in /usr/local/lib/python3.7/dist-packages (from requests->transformers==4.2.0) (1.24.3)\n",
            "Requirement already satisfied: idna<3,>=2.5 in /usr/local/lib/python3.7/dist-packages (from requests->transformers==4.2.0) (2.10)\n",
            "Requirement already satisfied: chardet<4,>=3.0.2 in /usr/local/lib/python3.7/dist-packages (from requests->transformers==4.2.0) (3.0.4)\n",
            "Requirement already satisfied: certifi>=2017.4.17 in /usr/local/lib/python3.7/dist-packages (from requests->transformers==4.2.0) (2020.12.5)\n",
            "Requirement already satisfied: pyparsing>=2.0.2 in /usr/local/lib/python3.7/dist-packages (from packaging->transformers==4.2.0) (2.4.7)\n",
            "Requirement already satisfied: typing-extensions>=3.6.4; python_version < \"3.8\" in /usr/local/lib/python3.7/dist-packages (from importlib-metadata; python_version < \"3.8\"->transformers==4.2.0) (3.7.4.3)\n",
            "Requirement already satisfied: zipp>=0.5 in /usr/local/lib/python3.7/dist-packages (from importlib-metadata; python_version < \"3.8\"->transformers==4.2.0) (3.4.1)\n",
            "Requirement already satisfied: six in /usr/local/lib/python3.7/dist-packages (from sacremoses->transformers==4.2.0) (1.15.0)\n",
            "Requirement already satisfied: click in /usr/local/lib/python3.7/dist-packages (from sacremoses->transformers==4.2.0) (7.1.2)\n",
            "Requirement already satisfied: joblib in /usr/local/lib/python3.7/dist-packages (from sacremoses->transformers==4.2.0) (1.0.1)\n",
            "Building wheels for collected packages: sacremoses\n",
            "  Building wheel for sacremoses (setup.py) ... \u001b[?25l\u001b[?25hdone\n",
            "  Created wheel for sacremoses: filename=sacremoses-0.0.43-cp37-none-any.whl size=893262 sha256=b69f906ffac4fee140f046cf22c362439e411eb666e8878bfca57420dba4bac2\n",
            "  Stored in directory: /root/.cache/pip/wheels/29/3c/fd/7ce5c3f0666dab31a50123635e6fb5e19ceb42ce38d4e58f45\n",
            "Successfully built sacremoses\n",
            "Installing collected packages: tokenizers, sacremoses, transformers\n",
            "Successfully installed sacremoses-0.0.43 tokenizers-0.9.4 transformers-4.2.0\n"
          ],
          "name": "stdout"
        }
      ]
    },
    {
      "cell_type": "code",
      "metadata": {
        "id": "G9oN1CmeAJIq",
        "trusted": true
      },
      "source": [
        "from transformers import DistilBertTokenizer, AdamW, get_linear_schedule_with_warmup,DistilBertModel,DistilBertConfig\n",
        "import pandas as pd\n",
        "import torch\n",
        "from torch.utils.data import TensorDataset, random_split\n",
        "from torch.utils.data import DataLoader, RandomSampler, SequentialSampler\n",
        "from sklearn.metrics import accuracy_score, precision_recall_fscore_support\n",
        "import time\n",
        "import torch.nn as nn"
      ],
      "execution_count": 4,
      "outputs": []
    },
    {
      "cell_type": "code",
      "metadata": {
        "id": "LbVh7zgKnJRL",
        "trusted": true,
        "colab": {
          "base_uri": "https://localhost:8080/"
        },
        "outputId": "ec8cbe8a-e294-4847-cf40-fb09a1dacea3"
      },
      "source": [
        "DEVICE = torch.device(\"cuda\" if torch.cuda.is_available() else \"cpu\")\n",
        "print(DEVICE)"
      ],
      "execution_count": 5,
      "outputs": [
        {
          "output_type": "stream",
          "text": [
            "cuda\n"
          ],
          "name": "stdout"
        }
      ]
    },
    {
      "cell_type": "markdown",
      "metadata": {
        "id": "QCSs4ei1Xor8"
      },
      "source": [
        "##Read data from csv files"
      ]
    },
    {
      "cell_type": "code",
      "metadata": {
        "id": "tLEIXzsi07C8",
        "trusted": true
      },
      "source": [
        "def read_train_and_test(train_path, test_path): #path: path of the whole dataset\n",
        "    train = pd.read_csv(train_path)\n",
        "    test = pd.read_csv(test_path)\n",
        "    return train, test\n",
        "\n",
        "train_path = \"./data/train.csv\"\n",
        "test_path = \"./data/test.csv\"\n",
        "train_csv, test_csv = read_train_and_test(train_path, test_path)"
      ],
      "execution_count": 6,
      "outputs": []
    },
    {
      "cell_type": "code",
      "metadata": {
        "id": "y_4ZHk66VAA6",
        "trusted": true,
        "colab": {
          "base_uri": "https://localhost:8080/"
        },
        "outputId": "e2289aac-c523-4107-bf83-f9a831bf55b7"
      },
      "source": [
        "train_labels = list(train_csv.label.values)\n",
        "print(train_labels.count(0))\n",
        "print(train_labels.count(1))\n",
        "print(train_labels.count(2))"
      ],
      "execution_count": null,
      "outputs": [
        {
          "output_type": "stream",
          "text": [
            "1136\n",
            "15369\n",
            "3321\n"
          ],
          "name": "stdout"
        }
      ]
    },
    {
      "cell_type": "code",
      "metadata": {
        "trusted": true,
        "id": "36MMpQTxMCaA",
        "colab": {
          "base_uri": "https://localhost:8080/"
        },
        "outputId": "45ad5a92-9cf7-42b3-86dc-d53786eec0b1"
      },
      "source": [
        "print(train_csv.tweet.values[:10])"
      ],
      "execution_count": 7,
      "outputs": [
        {
          "output_type": "stream",
          "text": [
            "['#anywere &#8220;@TheCooleyShow: LA = palm trees and great weather \\nAny were else = horrible weather and no bitches&#8221;'\n",
            " 'RT @OfficialA1King: The face you make when you see a hoe trying to preach on twitter http://t.co/2T1UkUDQBw'\n",
            " 'bitch get off my twitter hoe &#128074;'\n",
            " 'I can taste loud n pussy on my tongue &#128541;'\n",
            " 'Diabetes galore &#128514;&#128514;&#128514;&#128514;&#128514; RT @TIME: Colorado health officials recommend pot brownie ban http://t.co/Z59oy20TMp'\n",
            " '@LaneBelgarde @A7XDemery you Sick bitch didnt even invite me'\n",
            " 'RT @djMemphis10: Never hurt your Girlfriend to make a hoe happy &#128175; #djmemphis10'\n",
            " 'This is why nothing gets done. Morons like Coburn trying 2 ad a gun amendment 2 a public works bill. Push back on the #teabagger #morningjoe'\n",
            " 'RT @ccancel14: Miserable bitches talk the most shit &#128514;&#9996;&#65039;'\n",
            " 'Its gorg out! RT @@anggxo: This bitch thinks its june or something @BriiiXO http://t.co/mFVCmym']\n"
          ],
          "name": "stdout"
        }
      ]
    },
    {
      "cell_type": "markdown",
      "metadata": {
        "id": "cyRsPqwLX1wy"
      },
      "source": [
        "##Run tokenizer"
      ]
    },
    {
      "cell_type": "code",
      "metadata": {
        "id": "DvIQKI-AtzJY",
        "trusted": true,
        "colab": {
          "base_uri": "https://localhost:8080/",
          "height": 66,
          "referenced_widgets": [
            "f206a15723204c7e8bd1ff508b40f1bd",
            "401b70e3522e4f7ba68d9731517aad10",
            "fce2cf668a444bc594500e4e1687736e",
            "f5cec8dd56984bf0bf477b53072a393d",
            "6d1155664f76453eb2549693d4427c55",
            "b201e805d150414196492e8964a9d879",
            "04f586a2ea0f4a3b8ffa741f8e19b37d",
            "ebf64b2da0a24da198324b81fca46b58"
          ]
        },
        "outputId": "94d4bd81-f261-428c-a9c4-e9b80455effd"
      },
      "source": [
        "def run_tokenizer(train_csv, test_csv, merge_label=False, add_token=False):\n",
        "    tokenizer = DistilBertTokenizer.from_pretrained('distilbert-base-cased') \n",
        "    if add_token:\n",
        "      tokenizer.add_tokens(add_token)\n",
        "\n",
        "    def get_max_len(tokenizer, train_csv):\n",
        "        tweets = train_csv.tweet.values\n",
        "        max_length = 0\n",
        "        for t in tweets:\n",
        "          ids = tokenizer.encode(t)\n",
        "          max_length = max(len(ids),max_length)\n",
        "        return max_length\n",
        "\n",
        "    max_length = get_max_len(tokenizer, train_csv)\n",
        "    train_tweets, train_labels = train_csv.tweet.values, train_csv.label.values\n",
        "    test_tweets, test_labels = test_csv.tweet.values, test_csv.label.values\n",
        "    if merge_label == True:\n",
        "       train_labels = [l if l ==0 else 1 for l in train_labels]\n",
        "       test_labels = [l if l ==0 else 1 for l in test_labels]\n",
        "\n",
        "    def tokenize_for_tweet(tokenizer, tweets, labels):\n",
        "        input_ids = []\n",
        "        attention_masks = []\n",
        "\n",
        "        for t in tweets:\n",
        "            input_dict = tokenizer.encode_plus(t, add_special_tokens=True, max_length=max_length, truncation=True, padding='max_length',return_tensors='pt')\n",
        "            input_ids.append(input_dict['input_ids'])\n",
        "            attention_masks.append(input_dict['attention_mask'])\n",
        "        input_ids = torch.cat(input_ids,dim=0)\n",
        "        attention_masks = torch.cat(attention_masks,dim=0)\n",
        "        labels=torch.tensor(labels)\n",
        "        dataset = TensorDataset(input_ids, attention_masks, labels)\n",
        "        return dataset\n",
        "        \n",
        "    train_dataset = tokenize_for_tweet(tokenizer, train_tweets, train_labels)\n",
        "    test_dataset = tokenize_for_tweet(tokenizer, test_tweets, test_labels)\n",
        "    num_label = 3 if merge_label == False else 2\n",
        "    return train_dataset, test_dataset, num_label, tokenizer\n",
        "\n",
        "#tokens = ['<SWEAR-0>', '<SWEAR-1>', '<SWEAR-2>']\n",
        "train_dataset, test_dataset, num_label, tokenizer = run_tokenizer(train_csv, test_csv, merge_label = False)#,add_token = tokens)"
      ],
      "execution_count": 8,
      "outputs": [
        {
          "output_type": "display_data",
          "data": {
            "application/vnd.jupyter.widget-view+json": {
              "model_id": "f206a15723204c7e8bd1ff508b40f1bd",
              "version_minor": 0,
              "version_major": 2
            },
            "text/plain": [
              "HBox(children=(FloatProgress(value=0.0, description='Downloading', max=213450.0, style=ProgressStyle(descripti…"
            ]
          },
          "metadata": {
            "tags": []
          }
        },
        {
          "output_type": "stream",
          "text": [
            "\n"
          ],
          "name": "stdout"
        }
      ]
    },
    {
      "cell_type": "markdown",
      "metadata": {
        "id": "nE6x0jARX7hy"
      },
      "source": [
        "##Make data loader"
      ]
    },
    {
      "cell_type": "code",
      "metadata": {
        "id": "mAfIYownmjsZ",
        "trusted": true
      },
      "source": [
        "batch_size = 10\n",
        "\n",
        "train_dataloader = DataLoader(train_dataset, sampler = RandomSampler(train_dataset), batch_size = batch_size)\n",
        "\n",
        "test_dataloader = DataLoader(test_dataset, sampler = SequentialSampler(test_dataset), batch_size = batch_size)"
      ],
      "execution_count": 9,
      "outputs": []
    },
    {
      "cell_type": "markdown",
      "metadata": {
        "id": "zcNUTLkIYAnd"
      },
      "source": [
        "##Difine classifier and adversary"
      ]
    },
    {
      "cell_type": "code",
      "metadata": {
        "id": "b18YlcZR81n5"
      },
      "source": [
        "configuration = DistilBertConfig()\n",
        "#configuration.output_hidden_states = True\n",
        "#print(configuration)"
      ],
      "execution_count": 10,
      "outputs": []
    },
    {
      "cell_type": "code",
      "metadata": {
        "id": "Foric77dco5V"
      },
      "source": [
        "class Classifier(nn.Module):\n",
        "  def __init__(self, num_label):\n",
        "    super().__init__()\n",
        "    self.bert = DistilBertModel.from_pretrained('distilbert-base-cased')\n",
        "    #self.bert.resize_token_embeddings(len(tokenizer))\n",
        "    self.linear = nn.Linear(configuration.hidden_size, num_label)\n",
        "\n",
        "  def forward(self, input_ids, attention_mask): # input_id [batch_size, sentence_length]\n",
        "    last_hidden_state = self.bert(input_ids, attention_mask)[0] # last_hidden_state [batch_size, sentence_length, hidden_size]\n",
        "    last_hidden_state = torch.mean(last_hidden_state, dim=1) # last_hidden_state [batch_size, hidden_size]\n",
        "    output = self.linear(last_hidden_state) # output [batch_size, num_label]\n",
        "    return last_hidden_state, output\n"
      ],
      "execution_count": 11,
      "outputs": []
    },
    {
      "cell_type": "code",
      "metadata": {
        "id": "RRSb2kh4_9YB"
      },
      "source": [
        "class Adversary(nn.Module):\n",
        "  def __init__(self, num_protected_label, hidden_size):\n",
        "    super().__init__()\n",
        "    self.linear1 = nn.Linear(configuration.hidden_size, hidden_size)\n",
        "    self.relu = nn.ReLU()\n",
        "    self.linear2 = nn.Linear(hidden_size, num_protected_label)\n",
        "\n",
        "  def forward(self, clf_last_state):\n",
        "    output1 = self.relu(self.linear1(clf_last_state))\n",
        "    output = self.linear2(output1)\n",
        "    return output"
      ],
      "execution_count": 12,
      "outputs": []
    },
    {
      "cell_type": "markdown",
      "metadata": {
        "id": "bDBVcb9HYIRg"
      },
      "source": [
        "##Import some tools for evaluation after each training epoch"
      ]
    },
    {
      "cell_type": "code",
      "metadata": {
        "trusted": true,
        "id": "WpoTduN5MCaE"
      },
      "source": [
        "from sklearn.metrics import confusion_matrix\n",
        "import matplotlib.pyplot as plt\n",
        "\n",
        "from sklearn.metrics import classification_report\n",
        "import numpy as np\n",
        "import random"
      ],
      "execution_count": 13,
      "outputs": []
    },
    {
      "cell_type": "code",
      "metadata": {
        "trusted": true,
        "id": "kkQQj3zDMCaE"
      },
      "source": [
        "def plot_confusion_matrix(y_true, y_pred, classes, normalize=False, title=None, cmap=plt.cm.Blues):\n",
        "    \"\"\"\n",
        "    This function prints and plots the confusion matrix.\n",
        "    Normalization can be applied by setting `normalize=True`.\n",
        "    \"\"\"\n",
        "    if not title:\n",
        "        if normalize:\n",
        "            title = 'Normalized confusion matrix'\n",
        "        else:\n",
        "            title = 'Confusion matrix, without normalization'\n",
        "\n",
        "    # Compute confusion matrix\n",
        "    cm = confusion_matrix(y_true, y_pred)\n",
        "    # Only use the labels that appear in the data\n",
        "    #classes = classes[unique_labels(y_true, y_pred)]\n",
        "    if normalize:\n",
        "        cm = cm.astype('float') / cm.sum(axis=1)[:, np.newaxis]\n",
        "        print(\"Normalized confusion matrix\")\n",
        "    else:\n",
        "        print('Confusion matrix, without normalization')\n",
        "\n",
        "    print(cm)\n",
        "\n",
        "    fig, ax = plt.subplots()\n",
        "    im = ax.imshow(cm, interpolation='nearest', cmap=cmap)\n",
        "    ax.figure.colorbar(im, ax=ax)\n",
        "    # We want to show all ticks...\n",
        "    ax.set(xticks=np.arange(cm.shape[1]),\n",
        "           yticks=np.arange(cm.shape[0]),\n",
        "           # ... and label them with the respective list entries\n",
        "           xticklabels=classes, yticklabels=classes,\n",
        "           title=title,\n",
        "           ylabel='True label',\n",
        "           xlabel='Predicted label')\n",
        "\n",
        "    # Rotate the tick labels and set their alignment.\n",
        "    plt.setp(ax.get_xticklabels(), rotation=45, ha=\"right\",\n",
        "             rotation_mode=\"anchor\")\n",
        "\n",
        "    # Loop over data dimensions and create text annotations.\n",
        "    fmt = '.2f' if normalize else 'd'\n",
        "    thresh = cm.max() / 2.\n",
        "    for i in range(cm.shape[0]):\n",
        "        for j in range(cm.shape[1]):\n",
        "            ax.text(j, i, format(cm[i, j], fmt),\n",
        "                    ha=\"center\", va=\"center\",\n",
        "                    color=\"white\" if cm[i, j] > thresh else \"black\")\n",
        "    fig.tight_layout()\n",
        "    return ax"
      ],
      "execution_count": 14,
      "outputs": []
    },
    {
      "cell_type": "code",
      "metadata": {
        "trusted": true,
        "id": "aFFmYy2aMCaE"
      },
      "source": [
        "def print_matrix(true_labels, predict_labels, default_classes=['hate','offensive','neither']):\n",
        "  cm = confusion_matrix(true_labels, predict_labels)\n",
        "  plot_confusion_matrix(true_labels, predict_labels, classes=default_classes ,title='Confusion matrix without rebalance')\n",
        "\n",
        "  #Plot normalized confusion matrix\n",
        "  plot_confusion_matrix(true_labels, predict_labels, classes=default_classes, normalize=True,title='Normalized confusion matrix without rebalance')\n",
        "\n",
        "  plt.show()\n",
        "\n",
        "  print(classification_report(true_labels, predict_labels, target_names=default_classes))"
      ],
      "execution_count": 15,
      "outputs": []
    },
    {
      "cell_type": "markdown",
      "metadata": {
        "id": "UKmFT1zKYQJ5"
      },
      "source": [
        "##Training and evaluation function"
      ]
    },
    {
      "cell_type": "code",
      "metadata": {
        "id": "5ZT1R9U3PyED"
      },
      "source": [
        "def adv_pretrain(clf, adv, epochs, adv_optimizer, train_dataloader, test_dataloader):\n",
        "    for e in range(epochs):\n",
        "        print('training adversary {} epoch...'.format(e+1))\n",
        "        start_time = time.time()\n",
        "\n",
        "        train_loss =0\n",
        "\n",
        "        clf.train(False)\n",
        "        adv.train(True)\n",
        "        for input, mask, label in train_dataloader:\n",
        "            input = input.to(DEVICE)\n",
        "            mask = mask.to(DEVICE)\n",
        "            label=label.to(DEVICE)\n",
        "\n",
        "            protected_label = torch.tensor([0 if l == 2 else 1 for l in label], dtype=torch.long).to(DEVICE) # 0 no-offensive 1 offensive\n",
        "            \n",
        "            clf.zero_grad()\n",
        "            adv.zero_grad()\n",
        "\n",
        "            last_hidden_state, clf_output = clf(input_ids=input, attention_mask=mask)\n",
        "\n",
        "            adv_output = adv(last_hidden_state)\n",
        "\n",
        "            adv_loss = loss_function(adv_output, protected_label)\n",
        "            train_loss += adv_loss.item()\n",
        "\n",
        "            adv_loss.backward()\n",
        "    \n",
        "            adv_optimizer.step()\n",
        "\n",
        "        sec = time.time()-start_time\n",
        "        print('{} seconds used......'.format(sec))\n",
        "        print(\"{} training finished! train loss: {}\".format(e+1, train_loss))\n",
        "        print('evaluating...')\n",
        "        clf.train(False)\n",
        "        adv.train(False)\n",
        "        with torch.no_grad():\n",
        "          true_labels, predict_labels = [], []\n",
        "          for input, mask, label in test_dataloader:\n",
        "              input = input.to(DEVICE)\n",
        "              mask = mask.to(DEVICE)\n",
        "              label=label.to(DEVICE)\n",
        "\n",
        "              protected_label = torch.tensor([0 if l == 2 else 1 for l in label], dtype=torch.long).to(DEVICE) # 0 no-offensive 1 offensive\n",
        "            \n",
        "              clf.zero_grad()\n",
        "              adv.zero_grad()\n",
        "\n",
        "              last_hidden_state, clf_output = clf(input_ids=input, attention_mask=mask)\n",
        "\n",
        "              adv_output = adv(last_hidden_state)\n",
        "\n",
        "              predict_label = torch.argmax(adv_output, dim=1)\n",
        "              true_labels += protected_label.tolist()\n",
        "              predict_labels += predict_label.tolist()\n",
        "          print_matrix(true_labels, predict_labels, default_classes=['no offensive','offensive'])\n",
        "    return adv    \n",
        "        \n"
      ],
      "execution_count": 16,
      "outputs": []
    },
    {
      "cell_type": "code",
      "metadata": {
        "id": "laM3Y-4qFMRN",
        "trusted": true
      },
      "source": [
        "def joint_training(clf, adv, epochs, clf_optimizer, adv_optimizer, train_dataloader, test_dataloader, alpha, model_name):\n",
        "    best_acc = 0\n",
        "    for e in range(epochs):\n",
        "        print('training {} epoch...'.format(e+1))\n",
        "        start_time = time.time()\n",
        "\n",
        "        train_loss, total_clf_loss, total_adv_loss = 0, 0, 0\n",
        "\n",
        "        clf.train(True)\n",
        "        adv.train(True)\n",
        "        for input, mask, label in train_dataloader:\n",
        "            input = input.to(DEVICE)\n",
        "            mask = mask.to(DEVICE)\n",
        "            label=label.to(DEVICE)\n",
        "\n",
        "            protected_label = torch.tensor([0 if l == 2 else 1 for l in label], dtype=torch.long).to(DEVICE) # 0 no-offensive 1 offensive\n",
        "            \n",
        "            clf.zero_grad()\n",
        "            adv.zero_grad()\n",
        "\n",
        "            last_hidden_state, clf_output = clf(input_ids=input, attention_mask=mask)\n",
        "\n",
        "            adv_output = adv(last_hidden_state)\n",
        "\n",
        "            clf_loss = loss_function(clf_output, label)\n",
        "            adv_loss = loss_function(adv_output, protected_label)\n",
        "\n",
        "            total_loss = clf_loss - alpha*adv_loss\n",
        "\n",
        "            train_loss += total_loss.item()\n",
        "            total_clf_loss += clf_loss.item()\n",
        "            total_adv_loss += adv_loss.item()\n",
        "\n",
        "            total_loss.backward(retain_graph=True)\n",
        "            clf_optimizer.step()\n",
        "\n",
        "            adv_loss.backward()\n",
        "            adv_optimizer.step()\n",
        "            \n",
        "\n",
        "        avg_train_loss = train_loss / len(train_dataloader)\n",
        "        sec = time.time()-start_time\n",
        "        print('{} seconds used......'.format(sec))\n",
        "        print(\"{} training finished! average train loss: {}\".format(e+1,avg_train_loss))\n",
        "        print('total clf loss: {} total adv loss: {}'.format(total_clf_loss, total_adv_loss))\n",
        "        print('evaluating...')\n",
        "        best_acc = evaluate(clf, best_acc, test_dataloader, model_name, str(e+1))"
      ],
      "execution_count": 17,
      "outputs": []
    },
    {
      "cell_type": "code",
      "metadata": {
        "id": "5FAxcsnLHYWp",
        "trusted": true
      },
      "source": [
        "def evaluate(clf, best_acc, test_dataloader, model_name, epoch):\n",
        "    num_total, num_correct = 0, 0\n",
        "    clf.train(False)\n",
        "    with torch.no_grad():\n",
        "      eval_loss = 0\n",
        "      true_labels, predict_labels = [], []\n",
        "      for input, mask, label in test_dataloader:\n",
        "          clf.zero_grad()\n",
        "          \n",
        "          input = input.to(DEVICE)\n",
        "          mask = mask.to(DEVICE)\n",
        "          label = label.to(DEVICE)\n",
        "\n",
        "          last_hidden_state, output = clf(input_ids=input, attention_mask=mask)\n",
        "\n",
        "          loss = loss_function(output, label)\n",
        "\n",
        "          predict_label = torch.argmax(output, dim=1)\n",
        "\n",
        "          true_labels += label.tolist()\n",
        "          predict_labels += predict_label.tolist()\n",
        "\n",
        "          num_correct += (predict_label == label).sum().item()\n",
        "          num_total += len(label)\n",
        "\n",
        "          eval_loss += loss.item()\n",
        "\n",
        "      avg_eval_loss = eval_loss / len(test_dataloader)\n",
        "\n",
        "      acc = num_correct/num_total\n",
        "      if acc > best_acc:\n",
        "        best_acc = acc\n",
        "      torch.save(clf, epoch+model_name)\n",
        "      print_matrix(true_labels, predict_labels)\n",
        "\n",
        "    print('average eval_loss: {}, accuracy: {}'.format(avg_eval_loss,acc))\n",
        "    return best_acc\n"
      ],
      "execution_count": 18,
      "outputs": []
    },
    {
      "cell_type": "markdown",
      "metadata": {
        "id": "hV2RTigKYfSu"
      },
      "source": [
        "##Define the classifier and adversary"
      ]
    },
    {
      "cell_type": "code",
      "metadata": {
        "colab": {
          "base_uri": "https://localhost:8080/",
          "height": 115,
          "referenced_widgets": [
            "ae465b14adbc4aaab3dd3acc80256b16",
            "449ae9ea45014b5eb0b070b8c5252e15",
            "16ccc75333074c1b98e4c8195101a0b4",
            "8d6491469f5f43e7a397b5b482d5b8d3",
            "d22f25153baf425f82829900d5590e4d",
            "bb985bd25b6d4d20a27c3fcc4ce1db4d",
            "114ef1e1e2a7468ab5082e95b5081c66",
            "1cd9a3cd42a64a3ca41c44ed1f0d359d",
            "fd9ca1f1f5a4411d817818f6d4b82de5",
            "218fe6dadfe34c708ee4153cb76d423a",
            "4484bf97fee042599d524ec5b0ece5fa",
            "13ff1a4c59a14b9eb601ce1367b18eaa",
            "952848c12efb43cfa44fc94e46262772",
            "8a2d186232e94b1cad5edd8f1f6cf8ac",
            "81e86186ec1f4b5abbd12baec20fd928",
            "dd05bebd40df4b34b80a262a0705a940"
          ]
        },
        "id": "hIWH9p-8_Gz4",
        "outputId": "80f69313-67a9-4dc0-a442-8534312fc81d"
      },
      "source": [
        "classifier = Classifier(num_label).to(DEVICE)\n",
        "\n",
        "adversary = Adversary(2, 120).to(DEVICE)\n",
        "\n",
        "loss_function = nn.CrossEntropyLoss()\n",
        "\n",
        "clf_optimizer = AdamW(classifier.parameters(),lr = 2e-5, eps = 1e-8)\n",
        "\n",
        "adv_optimizer = torch.optim.AdamW(adversary.parameters(), lr=0.001)"
      ],
      "execution_count": 19,
      "outputs": [
        {
          "output_type": "display_data",
          "data": {
            "application/vnd.jupyter.widget-view+json": {
              "model_id": "ae465b14adbc4aaab3dd3acc80256b16",
              "version_minor": 0,
              "version_major": 2
            },
            "text/plain": [
              "HBox(children=(FloatProgress(value=0.0, description='Downloading', max=411.0, style=ProgressStyle(description_…"
            ]
          },
          "metadata": {
            "tags": []
          }
        },
        {
          "output_type": "stream",
          "text": [
            "\n"
          ],
          "name": "stdout"
        },
        {
          "output_type": "display_data",
          "data": {
            "application/vnd.jupyter.widget-view+json": {
              "model_id": "fd9ca1f1f5a4411d817818f6d4b82de5",
              "version_minor": 0,
              "version_major": 2
            },
            "text/plain": [
              "HBox(children=(FloatProgress(value=0.0, description='Downloading', max=263273408.0, style=ProgressStyle(descri…"
            ]
          },
          "metadata": {
            "tags": []
          }
        },
        {
          "output_type": "stream",
          "text": [
            "\n"
          ],
          "name": "stdout"
        }
      ]
    },
    {
      "cell_type": "markdown",
      "metadata": {
        "id": "PdpY3Zv1Yj52"
      },
      "source": [
        "##Pretrain the adversary\n",
        "Since the Bert model is imported from pretrained model, it's necesary to pretrain the adversary part before joint training. Otherwise the disparity between the loss of classifier and adversary will become huge."
      ]
    },
    {
      "cell_type": "code",
      "metadata": {
        "colab": {
          "base_uri": "https://localhost:8080/",
          "height": 1000
        },
        "id": "u3QFnFnkVy9L",
        "outputId": "2d3bc413-8d2c-4838-dc6c-0671fd57f9ce"
      },
      "source": [
        "adversary = adv_pretrain(classifier, adversary, 2, adv_optimizer, train_dataloader, test_dataloader)"
      ],
      "execution_count": 20,
      "outputs": [
        {
          "output_type": "stream",
          "text": [
            "training adversary 1 epoch...\n",
            "891.5740084648132 seconds used......\n",
            "1 training finished! train loss: 498.20323710143566\n",
            "evaluating...\n",
            "Confusion matrix, without normalization\n",
            "[[ 415  427]\n",
            " [  65 4050]]\n",
            "Normalized confusion matrix\n",
            "[[0.49287411 0.50712589]\n",
            " [0.01579587 0.98420413]]\n"
          ],
          "name": "stdout"
        },
        {
          "output_type": "display_data",
          "data": {
            "image/png": "[encoded data removed]",
            "text/plain": [
              "<Figure size 432x288 with 2 Axes>"
            ]
          },
          "metadata": {
            "tags": [],
            "needs_background": "light"
          }
        },
        {
          "output_type": "display_data",
          "data": {
            "image/png": "[encoded data removed]",
            "text/plain": [
              "<Figure size 432x288 with 2 Axes>"
            ]
          },
          "metadata": {
            "tags": [],
            "needs_background": "light"
          }
        },
        {
          "output_type": "stream",
          "text": [
            "              precision    recall  f1-score   support\n",
            "\n",
            "no offensive       0.86      0.49      0.63       842\n",
            "   offensive       0.90      0.98      0.94      4115\n",
            "\n",
            "    accuracy                           0.90      4957\n",
            "   macro avg       0.88      0.74      0.79      4957\n",
            "weighted avg       0.90      0.90      0.89      4957\n",
            "\n",
            "training adversary 2 epoch...\n",
            "893.2636218070984 seconds used......\n",
            "2 training finished! train loss: 406.94186740298755\n",
            "evaluating...\n",
            "Confusion matrix, without normalization\n",
            "[[ 645  197]\n",
            " [ 202 3913]]\n",
            "Normalized confusion matrix\n",
            "[[0.76603325 0.23396675]\n",
            " [0.0490887  0.9509113 ]]\n"
          ],
          "name": "stdout"
        },
        {
          "output_type": "display_data",
          "data": {
            "image/png": "[encoded data removed]",
            "text/plain": [
              "<Figure size 432x288 with 2 Axes>"
            ]
          },
          "metadata": {
            "tags": [],
            "needs_background": "light"
          }
        },
        {
          "output_type": "display_data",
          "data": {
            "image/png": "[encoded data removed]",
            "text/plain": [
              "<Figure size 432x288 with 2 Axes>"
            ]
          },
          "metadata": {
            "tags": [],
            "needs_background": "light"
          }
        },
        {
          "output_type": "stream",
          "text": [
            "              precision    recall  f1-score   support\n",
            "\n",
            "no offensive       0.76      0.77      0.76       842\n",
            "   offensive       0.95      0.95      0.95      4115\n",
            "\n",
            "    accuracy                           0.92      4957\n",
            "   macro avg       0.86      0.86      0.86      4957\n",
            "weighted avg       0.92      0.92      0.92      4957\n",
            "\n"
          ],
          "name": "stdout"
        }
      ]
    },
    {
      "cell_type": "code",
      "metadata": {
        "id": "7j0Pb9OVigYw"
      },
      "source": [
        "torch.save(adversary, 'pretrained_adversary')"
      ],
      "execution_count": 22,
      "outputs": []
    },
    {
      "cell_type": "code",
      "metadata": {
        "id": "kX5Nz6sJi4G7"
      },
      "source": [
        "adversary = torch.load('pretrained_adversary')"
      ],
      "execution_count": 18,
      "outputs": []
    },
    {
      "cell_type": "markdown",
      "metadata": {
        "id": "QUsp9GmZZQZ2"
      },
      "source": [
        "## Joint training\n",
        "In this step, only the total loss which is defined as L = L<sub>clf</sub> − α∗L<sub>adv</sub> is used for backpropagation. Hence, α is also a import hyperparameter. "
      ]
    },
    {
      "cell_type": "code",
      "metadata": {
        "id": "SoXzLzmgKP8Z",
        "trusted": true,
        "colab": {
          "base_uri": "https://localhost:8080/"
        },
        "outputId": "7416bfd9-639a-469c-b3e3-f450c84dc111"
      },
      "source": [
        "epochs = 10\n",
        "alpha = 0.05\n",
        "model_name = 'adv_model_hate_as_offensive'\n",
        "joint_training(classifier, adversary, epochs, clf_optimizer, adv_optimizer, train_dataloader, test_dataloader, alpha, model_name)"
      ],
      "execution_count": null,
      "outputs": [
        {
          "output_type": "stream",
          "text": [
            "training 1 epoch...\n"
          ],
          "name": "stdout"
        }
      ]
    },
    {
      "cell_type": "markdown",
      "metadata": {
        "id": "Ef7rhBsgaWbw"
      },
      "source": [
        "##Rebalance the number of instances in classes\n",
        "In the prevous experiment, rebalancing is an effective method to increase the true positive rate for hate speech class. (However, the scores of other classes will decrease)"
      ]
    },
    {
      "cell_type": "code",
      "metadata": {
        "trusted": true,
        "id": "sCWBAqc4MCaF"
      },
      "source": [
        "def rebalance_dataset(dataset):\n",
        "    data_0 = [inst for inst in dataset if inst[2]==0]\n",
        "    data_1 = [inst for inst in dataset if inst[2]==1]\n",
        "    data_2 = [inst for inst in dataset if inst[2]==2]\n",
        "    random.shuffle(data_0)\n",
        "    random.shuffle(data_1)\n",
        "    random.shuffle(data_2)\n",
        "    num_data0 = len(data_0)\n",
        "    balanced_dataset = data_0+data_1[:num_data0]+data_2[:num_data0]\n",
        "    return balanced_dataset"
      ],
      "execution_count": null,
      "outputs": []
    },
    {
      "cell_type": "code",
      "metadata": {
        "trusted": true,
        "id": "Sa8xJ7wRMCaF"
      },
      "source": [
        "re_train_dataset = rebalance_dataset(train_dataset)\n",
        "re_test_dataset = rebalance_dataset(test_dataset)"
      ],
      "execution_count": null,
      "outputs": []
    },
    {
      "cell_type": "code",
      "metadata": {
        "id": "lLoCX_30dm9m",
        "trusted": true
      },
      "source": [
        "batch_size = 10"
      ],
      "execution_count": null,
      "outputs": []
    },
    {
      "cell_type": "code",
      "metadata": {
        "trusted": true,
        "id": "I66AVk9iMCaF"
      },
      "source": [
        "re_train_dataloader = DataLoader(re_train_dataset, sampler = RandomSampler(re_train_dataset), batch_size = batch_size)\n",
        "re_test_dataloader = DataLoader(re_test_dataset, sampler = RandomSampler(re_test_dataset), batch_size = batch_size)"
      ],
      "execution_count": null,
      "outputs": []
    },
    {
      "cell_type": "code",
      "metadata": {
        "trusted": true,
        "id": "HzXhQc6HMCaF"
      },
      "source": [
        "epochs = 20\n",
        "alpha = 0.0000005\n",
        "model_name = 'adv_model'\n",
        "joint_training(classifier, adversary, epochs, clf_optimizer, adv_optimizer, train_dataloader, test_dataloader, alpha, model_name)"
      ],
      "execution_count": null,
      "outputs": []
    }
  ]
}